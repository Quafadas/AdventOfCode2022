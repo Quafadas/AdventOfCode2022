{
 "cells": [
  {
   "cell_type": "code",
   "execution_count": 5,
   "metadata": {},
   "outputs": [
    {
     "name": "stderr",
     "output_type": "stream",
     "text": [
      "error while loading package$,\n",
      "class file cats/package.class is broken, reading aborted with class dotty.tools.tasty.UnpickleException\n",
      "TASTy signature has wrong version.\n",
      " expected: {majorVersion: 28, minorVersion: 1}\n",
      " found   : {majorVersion: 28, minorVersion: 2}\n",
      "\n",
      "This TASTy file was produced by a more recent, forwards incompatible release.\n",
      "To read this TASTy file, please upgrade your tooling.\n",
      "The TASTy file was produced by Scala 3.2.1.Resolving package/object name conflict in favor of package cats.effect.implicits. The object will be inaccessible.error while loading package$,\n",
      "class file cats/effect/package.class is broken, reading aborted with class dotty.tools.tasty.UnpickleException\n",
      "TASTy signature has wrong version.\n",
      " expected: {majorVersion: 28, minorVersion: 1}\n",
      " found   : {majorVersion: 28, minorVersion: 2}\n",
      "\n",
      "This TASTy file was produced by a more recent, forwards incompatible release.\n",
      "To read this TASTy file, please upgrade your tooling.\n",
      "The TASTy file was produced by Scala 3.2.1.error while loading IO,\n",
      "class file cats/effect/IO.class is broken, reading aborted with class dotty.tools.tasty.UnpickleException\n",
      "TASTy signature has wrong version.\n",
      " expected: {majorVersion: 28, minorVersion: 1}\n",
      " found   : {majorVersion: 28, minorVersion: 2}\n",
      "\n",
      "This TASTy file was produced by a more recent, forwards incompatible release.\n",
      "To read this TASTy file, please upgrade your tooling.\n",
      "The TASTy file was produced by Scala 3.2.1.-- [E006] Not Found Error: cmd5.sc:7:20 ----------------------------------------\n",
      "7 |val rawData = Files[IO].readUtf8Lines(Path(\"data/problem1.txt\"))\n",
      "  |                    ^^\n",
      "  |                    Not found: type IO\n",
      "  |\n",
      "  | longer explanation available when compiling with `-explain`Resolving package/object name conflict in favor of package fs2.compression. The object will be inaccessible.error while loading package$,\n",
      "class file fs2/package.class is broken, reading aborted with class dotty.tools.tasty.UnpickleException\n",
      "TASTy signature has wrong version.\n",
      " expected: {majorVersion: 28, minorVersion: 1}\n",
      " found   : {majorVersion: 28, minorVersion: 2}\n",
      "\n",
      "This TASTy file was produced by a more recent, forwards incompatible release.\n",
      "To read this TASTy file, please upgrade your tooling.\n",
      "The TASTy file was produced by Scala 3.2.1.error while loading package$,\n",
      "class file fs2/io/package.class is broken, reading aborted with class dotty.tools.tasty.UnpickleException\n",
      "TASTy signature has wrong version.\n",
      " expected: {majorVersion: 28, minorVersion: 1}\n",
      " found   : {majorVersion: 28, minorVersion: 2}\n",
      "\n",
      "This TASTy file was produced by a more recent, forwards incompatible release.\n",
      "To read this TASTy file, please upgrade your tooling.\n",
      "The TASTy file was produced by Scala 3.2.1.error while loading package$,\n",
      "class file fs2/io/file/package.class is broken, reading aborted with class dotty.tools.tasty.UnpickleException\n",
      "TASTy signature has wrong version.\n",
      " expected: {majorVersion: 28, minorVersion: 1}\n",
      " found   : {majorVersion: 28, minorVersion: 2}\n",
      "\n",
      "This TASTy file was produced by a more recent, forwards incompatible release.\n",
      "To read this TASTy file, please upgrade your tooling.\n",
      "The TASTy file was produced by Scala 3.2.1.error while loading Files$,\n",
      "class file fs2/io/file/Files.class is broken, reading aborted with class dotty.tools.tasty.UnpickleException\n",
      "TASTy signature has wrong version.\n",
      " expected: {majorVersion: 28, minorVersion: 1}\n",
      " found   : {majorVersion: 28, minorVersion: 2}\n",
      "\n",
      "This TASTy file was produced by a more recent, forwards incompatible release.\n",
      "To read this TASTy file, please upgrade your tooling.\n",
      "The TASTy file was produced by Scala 3.2.1.Compilation Failed"
     ]
    },
    {
     "ename": "",
     "evalue": "",
     "output_type": "error",
     "traceback": [
      "Compilation Failed"
     ]
    },
    {
     "ename": "",
     "evalue": "",
     "output_type": "error",
     "traceback": [
      "\u001b[1;31mThe Kernel crashed while executing code in the the current cell or a previous cell. Please review the code in the cell(s) to identify a possible cause of the failure. Click <a href='https://aka.ms/vscodeJupyterKernelCrash'>here</a> for more info. View Jupyter <a href='command:jupyter.viewOutput'>log</a> for further details."
     ]
    }
   ],
   "source": [
    "import $ivy.`co.fs2::fs2-core:3.4.0`\n",
    "import $ivy.`co.fs2::fs2-io:3.4.0`\n",
    "\n",
    "import cats.effect.{IO}\n",
    "import fs2.io.file.{Files, Path}\n",
    "\n",
    "val rawData = Files[IO].readUtf8Lines(Path(\"data/problem1.txt\"))\n",
    "\n",
    "\n",
    "\n"
   ]
  }
 ],
 "metadata": {
  "kernelspec": {
   "display_name": "Scala",
   "language": "scala",
   "name": "scala"
  },
  "language_info": {
   "codemirror_mode": "text/x-scala",
   "file_extension": ".sc",
   "mimetype": "text/x-scala",
   "name": "scala",
   "nbconvert_exporter": "script",
   "version": "2.13.8"
  },
  "orig_nbformat": 4
 },
 "nbformat": 4,
 "nbformat_minor": 2
}
